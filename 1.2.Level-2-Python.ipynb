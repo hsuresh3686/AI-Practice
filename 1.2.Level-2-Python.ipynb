{
 "cells": [
  {
   "cell_type": "code",
   "execution_count": 2,
   "id": "0a616100",
   "metadata": {},
   "outputs": [
    {
     "name": "stdout",
     "output_type": "stream",
     "text": [
      "0\n",
      "1\n",
      "2\n",
      "3\n",
      "4\n",
      "5\n",
      "6\n",
      "7\n",
      "8\n",
      "9\n",
      "10\n",
      "11\n",
      "12\n",
      "13\n",
      "14\n",
      "15\n",
      "16\n",
      "17\n",
      "18\n",
      "19\n"
     ]
    }
   ],
   "source": [
    "#print 0 to 20 by using range\n",
    "for i in range(0,20):\n",
    "    print(i)"
   ]
  },
  {
   "cell_type": "code",
   "execution_count": 4,
   "id": "7ca3cfc2",
   "metadata": {},
   "outputs": [
    {
     "name": "stdout",
     "output_type": "stream",
     "text": [
      "10 11 12 13 14 15 16 17 18 19 "
     ]
    }
   ],
   "source": [
    "# print range 10 to 20\n",
    "for i in range(10,20):\n",
    "    print(i, end=\" \")"
   ]
  },
  {
   "cell_type": "code",
   "execution_count": 5,
   "id": "0b8ce317",
   "metadata": {},
   "outputs": [
    {
     "name": "stdout",
     "output_type": "stream",
     "text": [
      "[10, 20, 14, 55, 43, 87, 76]\n",
      "Number of items in the List2:\n",
      "7\n"
     ]
    }
   ],
   "source": [
    "# Print number of items in the list by using 'len'\n",
    "list2=[10, 20, 14, 55, 43, 87, 76]\n",
    "print(list2)\n",
    "print(\"Number of items in the List2:\")\n",
    "print(len(list2))"
   ]
  },
  {
   "cell_type": "code",
   "execution_count": 8,
   "id": "852ccbe6",
   "metadata": {},
   "outputs": [
    {
     "name": "stdout",
     "output_type": "stream",
     "text": [
      "Artificial Intelligence\n",
      "A\n",
      "r\n",
      "t\n",
      "i\n",
      "f\n",
      "i\n",
      "c\n",
      "i\n",
      "a\n",
      "l\n",
      " \n",
      "I\n",
      "n\n",
      "t\n",
      "e\n",
      "l\n",
      "l\n",
      "i\n",
      "g\n",
      "e\n",
      "n\n",
      "c\n",
      "e\n"
     ]
    }
   ],
   "source": [
    "str=\"Artificial Intelligence\"\n",
    "print(str)\n",
    "for i in range(0,len(str)):\n",
    "    print(str[i])"
   ]
  },
  {
   "cell_type": "code",
   "execution_count": 9,
   "id": "b62580fb",
   "metadata": {},
   "outputs": [
    {
     "name": "stdout",
     "output_type": "stream",
     "text": [
      "SureshKumar H\n",
      "37\n",
      "Software Engineer\n"
     ]
    }
   ],
   "source": [
    "print(\"SureshKumar H\")\n",
    "print(37)\n",
    "print(\"Software Engineer\")"
   ]
  },
  {
   "cell_type": "code",
   "execution_count": 10,
   "id": "cb1de03c",
   "metadata": {},
   "outputs": [
    {
     "name": "stdout",
     "output_type": "stream",
     "text": [
      "(1, 'Welcome', 2, 'Hope')\n"
     ]
    }
   ],
   "source": [
    "#Print mixture datatypes using Tuple\n",
    "tup=(1,'Welcome',2,'Hope')\n",
    "print(tup)"
   ]
  },
  {
   "cell_type": "code",
   "execution_count": 12,
   "id": "d0d71b3a",
   "metadata": {},
   "outputs": [
    {
     "name": "stdout",
     "output_type": "stream",
     "text": [
      "((0, 1, 2, 3), ('python', 'HOPE'))\n"
     ]
    }
   ],
   "source": [
    "Tuple1=(0,1,2,3)\n",
    "Tuple2=('python','HOPE')\n",
    "Tuple3=(Tuple1, Tuple2)\n",
    "print(Tuple3)"
   ]
  },
  {
   "cell_type": "code",
   "execution_count": 22,
   "id": "e8c4226e",
   "metadata": {},
   "outputs": [
    {
     "name": "stdout",
     "output_type": "stream",
     "text": [
      "19 is odd\n",
      "25 is odd\n",
      "1 is odd\n"
     ]
    }
   ],
   "source": [
    "#Print odd numbers in the list\n",
    "l1=[20,10,16,19,25,1,276,188]\n",
    "for i in l1:\n",
    "    if i % 2 == 1 :\n",
    "        print(i, \"is odd\")"
   ]
  },
  {
   "cell_type": "code",
   "execution_count": 23,
   "id": "93f5ddc3",
   "metadata": {},
   "outputs": [
    {
     "name": "stdout",
     "output_type": "stream",
     "text": [
      "20 is even\n",
      "10 is even\n",
      "16 is even\n",
      "276 is even\n",
      "188 is even\n"
     ]
    }
   ],
   "source": [
    "#Print odd numbers in the list\n",
    "l1=[20,10,16,19,25,1,276,188]\n",
    "for i in l1:\n",
    "    if i % 2 != 1 :\n",
    "        print(i, \"is even\")"
   ]
  }
 ],
 "metadata": {
  "kernelspec": {
   "display_name": "Python 3 (ipykernel)",
   "language": "python",
   "name": "python3"
  },
  "language_info": {
   "codemirror_mode": {
    "name": "ipython",
    "version": 3
   },
   "file_extension": ".py",
   "mimetype": "text/x-python",
   "name": "python",
   "nbconvert_exporter": "python",
   "pygments_lexer": "ipython3",
   "version": "3.11.5"
  }
 },
 "nbformat": 4,
 "nbformat_minor": 5
}
