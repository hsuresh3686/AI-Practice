{
 "cells": [
  {
   "cell_type": "code",
   "execution_count": 1,
   "id": "5d3e8b33",
   "metadata": {},
   "outputs": [
    {
     "name": "stdout",
     "output_type": "stream",
     "text": [
      "Sub-fields in AI are: \n",
      "Machine Learning\n",
      "Neural Networks\n",
      "Vision\n",
      "Robotics\n",
      "Speech Processing\n",
      "Natural Language Processing\n"
     ]
    }
   ],
   "source": [
    "# Create a class and function, and list out the items in the list\n",
    "class SubfieldsInAI():\n",
    "    def Subfields():\n",
    "        subfields=[\"Machine Learning\", \"Neural Networks\", \"Vision\", \"Robotics\", \"Speech Processing\", \"Natural Language Processing\"]\n",
    "        for i in subfields:\n",
    "           print(i)\n",
    "\n",
    "print(\"Sub-fields in AI are: \")\n",
    "SubfieldsInAI.Subfields()"
   ]
  },
  {
   "cell_type": "code",
   "execution_count": 2,
   "id": "8aed1bd7",
   "metadata": {},
   "outputs": [
    {
     "name": "stdout",
     "output_type": "stream",
     "text": [
      "Enter a number: 52452\n",
      "52452 is Even number\n"
     ]
    }
   ],
   "source": [
    "# Create a function that checks whether the given number is Odd or Even\n",
    "class OddEven():\n",
    "    def OddEven():\n",
    "        num = int(input(\"Enter a number: \"))\n",
    "        if num % 2 == 0:\n",
    "            print(num, \"is Even number\")\n",
    "        else:\n",
    "            print(num, \"is Odd number\")\n",
    "\n",
    "OddEven.OddEven()"
   ]
  },
  {
   "cell_type": "code",
   "execution_count": 3,
   "id": "fa24a034",
   "metadata": {},
   "outputs": [
    {
     "name": "stdout",
     "output_type": "stream",
     "text": [
      "Your Gender: Male\n",
      "Your Age: 20\n",
      "NOT ELIGIBLE\n"
     ]
    }
   ],
   "source": [
    "# Create a function that tells elegibility of marriage for male and female according to their age limit like 21 for male and 18 for female\n",
    "class ElegiblityForMarriage():\n",
    "    def Elegible():\n",
    "        gender = input(\"Your Gender: \")\n",
    "        age = int(input(\"Your Age: \"))\n",
    "        if gender == \"Male\":\n",
    "            if age < 21:\n",
    "                print(\"NOT ELIGIBLE\")\n",
    "            else:\n",
    "                print(\"ELIGIBLE\")\n",
    "        else:\n",
    "            if age < 18:\n",
    "                print(\"NOT ELIGIBLE\")\n",
    "            else:\n",
    "                print(\"ELIGIBLE\")\n",
    "\n",
    "ElegiblityForMarriage.Elegible()"
   ]
  },
  {
   "cell_type": "code",
   "execution_count": 4,
   "id": "52ee473e",
   "metadata": {},
   "outputs": [
    {
     "name": "stdout",
     "output_type": "stream",
     "text": [
      "Subject1= 98\n",
      "Subject2= 87\n",
      "Subject3= 95\n",
      "Subject4= 95\n",
      "Subject5= 93\n",
      "Total:  468\n",
      "Percentage:  93.60000000000001\n"
     ]
    }
   ],
   "source": [
    "# calculate the percentage of your 10th mark\n",
    "class FindPercent():\n",
    "    def percentage():\n",
    "        sub1 = int(input(\"Subject1= \"))\n",
    "        sub2 = int(input(\"Subject2= \"))\n",
    "        sub3 = int(input(\"Subject3= \"))\n",
    "        sub4 = int(input(\"Subject4= \"))\n",
    "        sub5 = int(input(\"Subject5= \"))\n",
    "        total = sub1+sub2+sub3+sub4+sub5\n",
    "        print(\"Total: \", total)\n",
    "        percent = (total/500) * 100\n",
    "        print(\"Percentage: \", percent)\n",
    "\n",
    "FindPercent.percentage()"
   ]
  },
  {
   "cell_type": "code",
   "execution_count": 5,
   "id": "c99a82b9",
   "metadata": {},
   "outputs": [
    {
     "name": "stdout",
     "output_type": "stream",
     "text": [
      "Height: 32\n",
      "Breath: 34\n",
      "Area of Triangle:  544.0\n",
      "Height1: 2\n",
      "Height2: 4\n",
      "Breath: 4\n",
      "Perimeter of Triangle:  10\n"
     ]
    }
   ],
   "source": [
    "#print area and perimeter of triangle using class and functions\n",
    "class triangle():\n",
    "    def triangle():\n",
    "        h = int(input(\"Height: \"))\n",
    "        b = int(input(\"Breath: \"))\n",
    "        area = (h*b)/2\n",
    "        print(\"Area of Triangle: \", area)\n",
    "        h1 = int(input(\"Height1: \"))\n",
    "        h2 = int(input(\"Height2: \"))\n",
    "        b = int(input(\"Breath: \"))\n",
    "        peri = h1+h2+b\n",
    "        print(\"Perimeter of Triangle: \", peri)\n",
    "\n",
    "triangle.triangle()"
   ]
  }
 ],
 "metadata": {
  "kernelspec": {
   "display_name": "Python 3 (ipykernel)",
   "language": "python",
   "name": "python3"
  },
  "language_info": {
   "codemirror_mode": {
    "name": "ipython",
    "version": 3
   },
   "file_extension": ".py",
   "mimetype": "text/x-python",
   "name": "python",
   "nbconvert_exporter": "python",
   "pygments_lexer": "ipython3",
   "version": "3.11.5"
  }
 },
 "nbformat": 4,
 "nbformat_minor": 5
}
