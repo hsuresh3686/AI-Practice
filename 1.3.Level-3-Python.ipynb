{
 "cells": [
  {
   "cell_type": "code",
   "execution_count": 1,
   "id": "219ae741",
   "metadata": {},
   "outputs": [
    {
     "name": "stdout",
     "output_type": "stream",
     "text": [
      "value: 10\n",
      "Correct\n"
     ]
    }
   ],
   "source": [
    "#Print Correct if i=10\n",
    "i=int(input(\"value: \"))\n",
    "if i == 10:\n",
    "    print(\"Correct\")"
   ]
  },
  {
   "cell_type": "code",
   "execution_count": 2,
   "id": "7520a463",
   "metadata": {},
   "outputs": [
    {
     "name": "stdout",
     "output_type": "stream",
     "text": [
      "Enter the Password:HOPE@123\n",
      "Your password is correct\n"
     ]
    }
   ],
   "source": [
    "# Check the Password using if and else\n",
    "pwd = input(\"Enter the Password:\")\n",
    "if pwd == \"HOPE@123\":\n",
    "    print(\"Your password is correct\")\n",
    "else:\n",
    "    print(\"Your password is wrong\")"
   ]
  },
  {
   "cell_type": "code",
   "execution_count": 4,
   "id": "235416c4",
   "metadata": {},
   "outputs": [
    {
     "name": "stdout",
     "output_type": "stream",
     "text": [
      "Enter the age:20\n",
      "Adult\n"
     ]
    }
   ],
   "source": [
    "#Category the people by their age like children, adult, citizen or senior citizen\n",
    "age=int(input(\"Enter the age:\"))\n",
    "if age<=18:\n",
    "    print(\"Children\")\n",
    "elif age<=35:\n",
    "    print(\"Adult\")\n",
    "elif age<=59:\n",
    "    print(\"Citizen\")\n",
    "else:\n",
    "    print(\"Senior Citizen\")"
   ]
  },
  {
   "cell_type": "code",
   "execution_count": 7,
   "id": "92866e1e",
   "metadata": {},
   "outputs": [
    {
     "name": "stdout",
     "output_type": "stream",
     "text": [
      "Enter the number:1\n",
      "No is Positive\n"
     ]
    }
   ],
   "source": [
    "# Find whether given number is Positive or Negative\n",
    "n = float(input(\"Enter the number:\"))\n",
    "\n",
    "if n>0:\n",
    "    print(\"No is Positive\")\n",
    "elif n<0:\n",
    "    print(\"No is Negative\")\n",
    "else:\n",
    "    print(\"Zero\")"
   ]
  },
  {
   "cell_type": "code",
   "execution_count": 10,
   "id": "f1b8bcc9",
   "metadata": {},
   "outputs": [
    {
     "name": "stdout",
     "output_type": "stream",
     "text": [
      "Enter a number to check: 22\n",
      "No is not divisible by 5\n"
     ]
    }
   ],
   "source": [
    "# Check whether given number is divisible by 5\n",
    "n = int(input(\"Enter a number to check: \"))\n",
    "if n % 5 == 0:\n",
    "    print(\"No is divisible by 5\")\n",
    "else:\n",
    "    print(\"No is not divisible by 5\")"
   ]
  }
 ],
 "metadata": {
  "kernelspec": {
   "display_name": "Python 3 (ipykernel)",
   "language": "python",
   "name": "python3"
  },
  "language_info": {
   "codemirror_mode": {
    "name": "ipython",
    "version": 3
   },
   "file_extension": ".py",
   "mimetype": "text/x-python",
   "name": "python",
   "nbconvert_exporter": "python",
   "pygments_lexer": "ipython3",
   "version": "3.11.5"
  }
 },
 "nbformat": 4,
 "nbformat_minor": 5
}
